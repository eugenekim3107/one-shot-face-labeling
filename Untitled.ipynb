{
 "cells": [
  {
   "cell_type": "code",
   "execution_count": 4,
   "metadata": {},
   "outputs": [],
   "source": [
    "import numpy as np\n",
    "import pandas as pd\n",
    "import os\n",
    "import torch\n",
    "import torchvision\n",
    "from torchvision import datasets, models\n",
    "from torchvision.transforms import functional as FT\n",
    "from torchvision import transforms as T\n",
    "from torch import nn, optim\n",
    "from torch.nn import functional as F\n",
    "from torch.utils.data import DataLoader, sampler, random_split, Dataset\n",
    "import copy\n",
    "import math\n",
    "from PIL import Image\n",
    "import cv2\n",
    "import matplotlib.pyplot as plt\n",
    "from collections import defaultdict, deque\n",
    "import datetime\n",
    "import time\n",
    "from tqdm import tqdm # progress bar\n",
    "from torchvision.utils import draw_bounding_boxes\n",
    "from pycocotools.coco import COCO\n",
    "from os.path import abspath, expanduser\n",
    "from typing import Dict, List, Union"
   ]
  },
  {
   "cell_type": "code",
   "execution_count": 5,
   "metadata": {},
   "outputs": [],
   "source": [
    "class Compose(object):\n",
    "    def __init__(self, train=False):\n",
    "        if train:\n",
    "            self.transforms = [\n",
    "                T.Resize(size=(400, 400)),\n",
    "                T.ToTensor(),\n",
    "                T.RandomHorizontalFlip(p=0.3),\n",
    "                T.RandomVerticalFlip(p=0.3),\n",
    "            ]\n",
    "        else:\n",
    "            self.transforms = [T.Resize(size=(400, 400)), T.ToTensor()]\n",
    "\n",
    "    def __call__(self, img, bboxes):\n",
    "        for t in self.transforms:\n",
    "            img, bboxes = t(img), bboxes\n",
    "\n",
    "        return img, bboxes"
   ]
  },
  {
   "cell_type": "code",
   "execution_count": 6,
   "metadata": {},
   "outputs": [
    {
     "ename": "SyntaxError",
     "evalue": "invalid syntax (<ipython-input-6-07db53efb19e>, line 42)",
     "output_type": "error",
     "traceback": [
      "\u001b[0;36m  File \u001b[0;32m\"<ipython-input-6-07db53efb19e>\"\u001b[0;36m, line \u001b[0;32m42\u001b[0m\n\u001b[0;31m    targ['labels'] = torch.tensor([1. for t in boxes.size(0), dtype=torch.int64])\u001b[0m\n\u001b[0m                                                            ^\u001b[0m\n\u001b[0;31mSyntaxError\u001b[0m\u001b[0;31m:\u001b[0m invalid syntax\n"
     ]
    }
   ],
   "source": [
    "class WIDERFace(Dataset):\n",
    "    BASE_FOLDER = \"widerface\"\n",
    "\n",
    "    def __init__(self, root, split=\"train\", S=7, B=2, C=2, transform=None):\n",
    "        # check arguments\n",
    "        self.root = os.path.join(root, self.BASE_FOLDER)\n",
    "        self.transform = transform\n",
    "        self.split = split\n",
    "        self.S = S\n",
    "        self.B = B\n",
    "        self.C = C\n",
    "        self.img_info: List[Dict[str, Union[str, Dict[str, torch.Tensor]]]] = []\n",
    "\n",
    "        if self.split in (\"train\", \"val\"):\n",
    "            self.parse_train_val_annotations_file()\n",
    "        else:\n",
    "            self.parse_test_annotations_file()\n",
    "\n",
    "    def __getitem__(self, index: int):\n",
    "        img = Image.open(self.img_info[index][\"img_path\"]).convert(\"RGB\")\n",
    "        img_shape = np.array(img)\n",
    "        img_h = img_shape.shape[0]\n",
    "        img_w = img_shape.shape[1]\n",
    "        boxes = self.img_info[index][\"annotations\"][\"bbox\"]\n",
    "        boxes[:, 0] /= img_w\n",
    "        boxes[:, 1] /= img_h\n",
    "        boxes[:, 2] /= img_w\n",
    "        boxes[:, 3] /= img_h\n",
    "        \n",
    "        new_boxes = [] # convert from xywh to xyxy\n",
    "        for box in boxes:\n",
    "            xmin = box[0]\n",
    "            xmax = xmin + box[2]\n",
    "            ymin = box[1]\n",
    "            ymax = ymin + box[3]\n",
    "            new_boxes.append([xmin, ymin, xmax, ymax])\n",
    "            \n",
    "        boxes = torch.tensor(new_boxes, dtype=torch.float32)\n",
    "        \n",
    "        targ = {}\n",
    "        targ['boxes'] = boxes\n",
    "        targ['labels'] = torch.tensor([1. for t in boxes.size(0), dtype=torch.int64])\n",
    "        targ['image_id'] = torch.tensor([1. for t in boxes.size(0)])\n",
    "        targ['area'] = (boxes[:, 3] - boxes[:, 1]) * (boxes[:, 2] - boxes[:, 0]) # we have a different area\n",
    "        targ['iscrowd'] = torch.tensor([1. for t in boxes.size(0)], dtype=torch.int64)\n",
    "        if self.transform is not None:\n",
    "            img, new_boxes = self.transform(img, new_boxes)\n",
    "        \n",
    "        return img, new_boxes\n",
    "\n",
    "    def __len__(self):\n",
    "        return len(self.img_info)\n",
    "\n",
    "    def extra_repr(self):\n",
    "        lines = [\"Split: {split}\"]\n",
    "        return \"\\n\".join(lines).format(**self.__dict__)\n",
    "\n",
    "    def parse_train_val_annotations_file(self):\n",
    "        filename = \"wider_face_train_bbx_gt.txt\" if self.split == \"train\" else \"wider_face_val_bbx_gt.txt\"\n",
    "        filepath = os.path.join(self.root, \"wider_face_split\", filename)\n",
    "\n",
    "        with open(filepath) as f:\n",
    "            lines = f.readlines()\n",
    "            file_name_line, num_boxes_line, box_annotation_line = True, False, False\n",
    "            num_boxes, box_counter = 0, 0\n",
    "            labels = []\n",
    "            for line in lines:\n",
    "                line = line.rstrip()\n",
    "                if file_name_line:\n",
    "                    img_path = os.path.join(self.root, \"WIDER_\" + self.split,\n",
    "                                            \"images\", line)\n",
    "                    if not os.path.isfile(img_path):\n",
    "                        continue\n",
    "                    img_path = abspath(expanduser(img_path))\n",
    "                    file_name_line = False\n",
    "                    num_boxes_line = True\n",
    "                elif num_boxes_line:\n",
    "                    num_boxes = int(line)\n",
    "                    num_boxes_line = False\n",
    "                    box_annotation_line = True\n",
    "                elif box_annotation_line:\n",
    "                    box_counter += 1\n",
    "                    line_split = line.split(\" \")\n",
    "                    line_values = [int(x) for x in line_split]\n",
    "                    labels.append(line_values)\n",
    "                    if box_counter >= num_boxes:\n",
    "                        box_annotation_line = False\n",
    "                        file_name_line = True\n",
    "                        labels_tensor = torch.tensor(labels)[:, 0:4].float()\n",
    "                        self.img_info.append(\n",
    "                            {\n",
    "                                \"img_path\": img_path,\n",
    "                                \"annotations\": {\n",
    "                                    \"bbox\": labels_tensor\n",
    "                                    # x, y, width, height\n",
    "                                },\n",
    "                            }\n",
    "                        )\n",
    "                        box_counter = 0\n",
    "                        labels.clear()\n",
    "                else:\n",
    "                    raise RuntimeError(\n",
    "                        f\"Error parsing annotation file {filepath}\")"
   ]
  },
  {
   "cell_type": "code",
   "execution_count": 8,
   "metadata": {},
   "outputs": [],
   "source": [
    "transform = Compose(train=True)\n",
    "transform2 = Compose(train=False)\n",
    "train_data = WIDERFace(root=\"data/\", split=\"train\", transform=transform)\n",
    "test_data = WIDERFace(root=\"data/\", split=\"val\", transform=transform2)"
   ]
  },
  {
   "cell_type": "code",
   "execution_count": 9,
   "metadata": {},
   "outputs": [],
   "source": [
    "batch_size = 1\n",
    "train_loader = DataLoader(train_data, batch_size = batch_size, shuffle=True)\n",
    "test_loader = DataLoader(test_data, batch_size = batch_size, shuffle=True)"
   ]
  },
  {
   "cell_type": "code",
   "execution_count": 10,
   "metadata": {},
   "outputs": [],
   "source": [
    "def show(imgs):\n",
    "    if not isinstance(imgs, list):\n",
    "        imgs = [imgs]\n",
    "    fix, axs = plt.subplots(ncols=len(imgs), squeeze=False)\n",
    "    for i, img in enumerate(imgs):\n",
    "        img = img.detach()\n",
    "        img = FT.to_pil_image(img)\n",
    "        axs[0, i].imshow(np.asarray(img))\n",
    "        axs[0, i].set(xticklabels=[], yticklabels=[], xticks=[], yticks=[])"
   ]
  },
  {
   "cell_type": "code",
   "execution_count": 11,
   "metadata": {},
   "outputs": [
    {
     "name": "stderr",
     "output_type": "stream",
     "text": [
      "<ipython-input-11-99080bc4e7df>:5: UserWarning: To copy construct from a tensor, it is recommended to use sourceTensor.clone().detach() or sourceTensor.clone().detach().requires_grad_(True), rather than torch.tensor(sourceTensor).\n",
      "  img_int = torch.tensor(img * 255, dtype=torch.uint8)\n"
     ]
    },
    {
     "data": {
      "image/png": "[encoded data removed]",
      "text/plain": [
       "<Figure size 432x288 with 1 Axes>"
      ]
     },
     "metadata": {},
     "output_type": "display_data"
    }
   ],
   "source": [
    "for (x,y) in test_loader:\n",
    "    img = x[0]\n",
    "    sample_y = y[0]\n",
    "    sample_y *= 400\n",
    "    img_int = torch.tensor(img * 255, dtype=torch.uint8)\n",
    "    drawn_boxes = draw_bounding_boxes(img_int, sample_y, colors=\"red\")\n",
    "    show(drawn_boxes)\n",
    "    break"
   ]
  },
  {
   "cell_type": "code",
   "execution_count": 12,
   "metadata": {},
   "outputs": [],
   "source": [
    "# lets load the faster rcnn model\n",
    "model = models.detection.fasterrcnn_mobilenet_v3_large_fpn(pretrained=True)"
   ]
  },
  {
   "cell_type": "code",
   "execution_count": 1,
   "metadata": {},
   "outputs": [
    {
     "ename": "NameError",
     "evalue": "name 'model' is not defined",
     "output_type": "error",
     "traceback": [
      "\u001b[0;31m---------------------------------------------------------------------------\u001b[0m",
      "\u001b[0;31mNameError\u001b[0m                                 Traceback (most recent call last)",
      "\u001b[0;32m<ipython-input-1-8f611e4b00ae>\u001b[0m in \u001b[0;36m<module>\u001b[0;34m\u001b[0m\n\u001b[1;32m      1\u001b[0m \u001b[0mn_classes\u001b[0m \u001b[0;34m=\u001b[0m \u001b[0;36m1\u001b[0m\u001b[0;34m\u001b[0m\u001b[0;34m\u001b[0m\u001b[0m\n\u001b[0;32m----> 2\u001b[0;31m \u001b[0min_features\u001b[0m \u001b[0;34m=\u001b[0m \u001b[0mmodel\u001b[0m\u001b[0;34m.\u001b[0m\u001b[0mroi_heads\u001b[0m\u001b[0;34m.\u001b[0m\u001b[0mbox_predictor\u001b[0m\u001b[0;34m.\u001b[0m\u001b[0mcls_score\u001b[0m\u001b[0;34m.\u001b[0m\u001b[0min_features\u001b[0m\u001b[0;34m\u001b[0m\u001b[0;34m\u001b[0m\u001b[0m\n\u001b[0m\u001b[1;32m      3\u001b[0m \u001b[0mmodel\u001b[0m\u001b[0;34m.\u001b[0m\u001b[0mroi_heads\u001b[0m\u001b[0;34m.\u001b[0m\u001b[0mbox_predictor\u001b[0m \u001b[0;34m=\u001b[0m \u001b[0mmodels\u001b[0m\u001b[0;34m.\u001b[0m\u001b[0mdetection\u001b[0m\u001b[0;34m.\u001b[0m\u001b[0mfaster_rcnn\u001b[0m\u001b[0;34m.\u001b[0m\u001b[0mFastRCNNPredictor\u001b[0m\u001b[0;34m(\u001b[0m\u001b[0min_features\u001b[0m\u001b[0;34m,\u001b[0m \u001b[0mn_classes\u001b[0m\u001b[0;34m)\u001b[0m\u001b[0;34m\u001b[0m\u001b[0;34m\u001b[0m\u001b[0m\n\u001b[1;32m      4\u001b[0m \u001b[0mmodel\u001b[0m\u001b[0;34m\u001b[0m\u001b[0;34m\u001b[0m\u001b[0m\n",
      "\u001b[0;31mNameError\u001b[0m: name 'model' is not defined"
     ]
    }
   ],
   "source": [
    "n_classes = 1\n",
    "in_features = model.roi_heads.box_predictor.cls_score.in_features\n",
    "model.roi_heads.box_predictor = models.detection.faster_rcnn.FastRCNNPredictor(in_features, n_classes)\n",
    "model"
   ]
  },
  {
   "cell_type": "code",
   "execution_count": null,
   "metadata": {},
   "outputs": [],
   "source": [
    "for (x,y) in test_loader:\n",
    "    img = x\n",
    "    model.eval()\n",
    "    y = model(img)\n",
    "    print(y)\n",
    "#     sample_y = y[0]\n",
    "#     sample_y *= 400\n",
    "    \n",
    "#     img_int = torch.tensor(img * 255, dtype=torch.uint8)\n",
    "#     drawn_boxes = draw_bounding_boxes(img_int, sample_y, colors=\"red\")\n",
    "#     show(drawn_boxes)\n",
    "    break"
   ]
  },
  {
   "cell_type": "code",
   "execution_count": 14,
   "metadata": {},
   "outputs": [],
   "source": [
    "pred = np.array([6,5,7,4,4,4])\n",
    "true = np.array([4,4,6,4,4,3])"
   ]
  },
  {
   "cell_type": "code",
   "execution_count": 16,
   "metadata": {},
   "outputs": [
    {
     "data": {
      "text/plain": [
       "array([6, 5, 4, 4])"
      ]
     },
     "execution_count": 16,
     "metadata": {},
     "output_type": "execute_result"
    }
   ],
   "source": [
    "pred[true == 4]"
   ]
  },
  {
   "cell_type": "code",
   "execution_count": 21,
   "metadata": {},
   "outputs": [
    {
     "data": {
      "text/plain": [
       "array([4, 4, 4, 4])"
      ]
     },
     "execution_count": 21,
     "metadata": {},
     "output_type": "execute_result"
    }
   ],
   "source": [
    "true[true==4]"
   ]
  },
  {
   "cell_type": "code",
   "execution_count": 22,
   "metadata": {},
   "outputs": [
    {
     "data": {
      "text/plain": [
       "2"
      ]
     },
     "execution_count": 22,
     "metadata": {},
     "output_type": "execute_result"
    }
   ],
   "source": [
    "np.sum(pred[true==4] == true[true==4])"
   ]
  },
  {
   "cell_type": "code",
   "execution_count": 24,
   "metadata": {},
   "outputs": [
    {
     "data": {
      "text/plain": [
       "4"
      ]
     },
     "execution_count": 24,
     "metadata": {},
     "output_type": "execute_result"
    }
   ],
   "source": [
    "true[true==4].shape[0]"
   ]
  },
  {
   "cell_type": "code",
   "execution_count": null,
   "metadata": {},
   "outputs": [],
   "source": [
    "(np.sum(pred[true==4] == true[true==4])) / (true[true==4].shape[0])"
   ]
  }
 ],
 "metadata": {
  "kernelspec": {
   "display_name": "Python 3",
   "language": "python",
   "name": "python3"
  },
  "language_info": {
   "codemirror_mode": {
    "name": "ipython",
    "version": 3
   },
   "file_extension": ".py",
   "mimetype": "text/x-python",
   "name": "python",
   "nbconvert_exporter": "python",
   "pygments_lexer": "ipython3",
   "version": "3.8.5"
  }
 },
 "nbformat": 4,
 "nbformat_minor": 4
}
